{
  "nbformat": 4,
  "nbformat_minor": 0,
  "metadata": {
    "colab": {
      "provenance": []
    },
    "kernelspec": {
      "name": "python3",
      "display_name": "Python 3"
    },
    "language_info": {
      "name": "python"
    }
  },
  "cells": [
    {
      "cell_type": "code",
      "execution_count": null,
      "metadata": {
        "id": "F0Mm_Jj-ALCz"
      },
      "outputs": [],
      "source": [
        "!pip install torch Pillow numpy scikit-image\n",
        "!pip install git+https://github.com/sberbank-ai/Real-ESRGAN.git"
      ]
    },
    {
      "cell_type": "code",
      "source": [
        "import torch\n",
        "from PIL import Image\n",
        "import numpy as np\n",
        "from RealESRGAN import RealESRGAN\n",
        "import time\n",
        "from skimage.metrics import mean_squared_error, structural_similarity\n",
        "\n",
        "# Setting the device\n",
        "device = torch.device('cuda' if torch.cuda.is_available() else 'cpu')\n",
        "\n",
        "# Load the model\n",
        "model = RealESRGAN(device, scale=4)\n",
        "model.load_weights('weights/RealESRGAN_x4.pth', download=True)\n",
        "\n",
        "# Path to the input image\n",
        "path_to_image = 'path to your image'\n",
        "image = Image.open(path_to_image).convert('RGB')\n",
        "\n",
        "# Start timing\n",
        "start_time = time.time()\n",
        "\n",
        "# Run the model\n",
        "sr_image = model.predict(image)\n",
        "\n",
        "# End timing\n",
        "end_time = time.time()\n",
        "\n",
        "# Save the output image\n",
        "sr_image.save('outpath to your image')\n",
        "\n",
        "# Calculate the elapsed time\n",
        "elapsed_time = end_time - start_time\n",
        "print(f\"Time taken to run the RealESRGAN model: {elapsed_time:.2f} seconds\")\n",
        "\n",
        "# Convert images to numpy arrays for metric calculations\n",
        "input_image_np = np.array(image)\n",
        "sr_image_np = np.array(sr_image)\n",
        "\n",
        "# Ensure both images have the same dimensions for comparison\n",
        "if input_image_np.shape != sr_image_np.shape:\n",
        "    sr_image_np = np.array(sr_image.resize(image.size))\n",
        "\n",
        "# Calculate MSE\n",
        "mse_score = mean_squared_error(input_image_np, sr_image_np)\n",
        "print(f\"MSE score: {mse_score}\")\n",
        "\n",
        "# Calculate SSIM\n",
        "ssim_score = structural_similarity(input_image_np, sr_image_np, multichannel=True)\n",
        "print(f\"SSIM score: {ssim_score}\")"
      ],
      "metadata": {
        "id": "NtWtfyoBAUQL"
      },
      "execution_count": null,
      "outputs": []
    }
  ]
}