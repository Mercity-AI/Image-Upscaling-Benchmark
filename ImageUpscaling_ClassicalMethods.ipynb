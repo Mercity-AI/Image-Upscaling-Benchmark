{
  "nbformat": 4,
  "nbformat_minor": 0,
  "metadata": {
    "colab": {
      "provenance": []
    },
    "kernelspec": {
      "name": "python3",
      "display_name": "Python 3"
    },
    "language_info": {
      "name": "python"
    }
  },
  "cells": [
    {
      "cell_type": "markdown",
      "source": [
        "We first reduce the size of the image, then enlarge this downscaled image back to its original size, and finally, we evaluate the performance by comparing the loss, the time required to execute the model, and the Structural Similarity Index Measure (SSIM)."
      ],
      "metadata": {
        "id": "wsvvZoC10p9w"
      }
    },
    {
      "cell_type": "markdown",
      "source": [
        "Installing the necessary libraries for the Image Upscaling"
      ],
      "metadata": {
        "id": "2lpV948fzjkB"
      }
    },
    {
      "cell_type": "code",
      "execution_count": 1,
      "metadata": {
        "colab": {
          "base_uri": "https://localhost:8080/"
        },
        "id": "OOhyZnoQy0A6",
        "outputId": "7ab0ea1e-a311-4993-d5af-993da7cc2b3b"
      },
      "outputs": [
        {
          "output_type": "stream",
          "name": "stdout",
          "text": [
            "Requirement already satisfied: opencv-python in /usr/local/lib/python3.10/dist-packages (4.8.0.76)\n",
            "Requirement already satisfied: numpy>=1.21.2 in /usr/local/lib/python3.10/dist-packages (from opencv-python) (1.25.2)\n"
          ]
        }
      ],
      "source": [
        "!pip install opencv-python\n",
        "import cv2\n",
        "from matplotlib import pyplot as plt\n",
        "import numpy as np\n",
        "import time\n",
        "from skimage.metrics import mean_squared_error, structural_similarity"
      ]
    },
    {
      "cell_type": "markdown",
      "source": [
        "Downscaling the Image"
      ],
      "metadata": {
        "id": "gIz1rQNJ3LJj"
      }
    },
    {
      "cell_type": "code",
      "source": [
        "# Load the image\n",
        "image = cv2.imread('path_to_image.jpg')\n",
        "\n",
        "# Define the scale factor\n",
        "scale_factor = 2\n",
        "\n",
        "# Calculate new dimensions\n",
        "width = int(image.shape[1] * scale_factor)\n",
        "height = int(image.shape[0] * scale_factor)\n",
        "\n",
        "# Resize the image\n",
        "resized_image = cv2.resize(image, (width, height), interpolation=cv2.INTER_AREA)\n",
        "\n",
        "# Save or Display the image\n",
        "output_image_path = 'path to your downscaled image'\n",
        "cv2.imwrite(output_image_path, resized_image)"
      ],
      "metadata": {
        "id": "KilO5viO3KG5"
      },
      "execution_count": null,
      "outputs": []
    },
    {
      "cell_type": "markdown",
      "source": [
        "**Bicubic Interpolation Method**"
      ],
      "metadata": {
        "id": "ztfSmDMvz626"
      }
    },
    {
      "cell_type": "code",
      "source": [
        "# Load the input image\n",
        "input_image_path = 'path to your downscaled image'\n",
        "image = cv2.imread(input_image_path)\n",
        "\n",
        "# Check if the image was loaded successfully\n",
        "if image is None:\n",
        "    raise ValueError(\"Image not found or unable to load image.\")\n",
        "\n",
        "# Define the scale factor for upscaling\n",
        "scale_factor = 2.0\n",
        "\n",
        "# Get the dimensions of the input image\n",
        "height, width = image.shape[:2]\n",
        "\n",
        "# Calculate the dimensions of the output image\n",
        "new_width = int(width * scale_factor)\n",
        "new_height = int(height * scale_factor)\n",
        "\n",
        "# Start timing the upscaling process\n",
        "start_time = time.time()\n",
        "\n",
        "# Perform the upscaling using bicubic interpolation\n",
        "upscaled_image = cv2.resize(image, (new_width, new_height), interpolation=cv2.INTER_CUBIC)\n",
        "\n",
        "# End timing the upscaling process\n",
        "end_time = time.time()\n",
        "\n",
        "# Calculate the elapsed time\n",
        "elapsed_time = end_time - start_time\n",
        "print(f\"Time taken to run the model: {elapsed_time:.2f} seconds\")\n",
        "\n",
        "# Convert images to grayscale for MSE and SSIM calculation\n",
        "input_image_gray = cv2.cvtColor(image, cv2.COLOR_BGR2GRAY)\n",
        "upscaled_image_gray = cv2.cvtColor(upscaled_image, cv2.COLOR_BGR2GRAY)\n",
        "\n",
        "# Resize the upscaled image to match the input image dimensions for MSE and SSIM calculation\n",
        "upscaled_image_resized = cv2.resize(upscaled_image_gray, (width, height), interpolation=cv2.INTER_CUBIC)\n",
        "\n",
        "# Calculate MSE\n",
        "mse_score = mean_squared_error(input_image_gray, upscaled_image_resized)\n",
        "print(f\"MSE score: {mse_score}\")\n",
        "\n",
        "# Calculate SSIM\n",
        "ssim_score = structural_similarity(input_image_gray, upscaled_image_resized)\n",
        "print(f\"SSIM score: {ssim_score}\")\n",
        "\n",
        "# Save the output image\n",
        "output_image_path = 'path to your output image'\n",
        "cv2.imwrite(output_image_path, upscaled_image)\n",
        "\n",
        "# Display the input and upscaled images\n",
        "plt.figure(figsize=(10, 5))\n",
        "\n",
        "plt.subplot(1, 2, 1)\n",
        "plt.title('Original Image')\n",
        "plt.imshow(cv2.cvtColor(image, cv2.COLOR_BGR2RGB))\n",
        "plt.axis('off')\n",
        "\n",
        "plt.subplot(1, 2, 2)\n",
        "plt.title('Upscaled Image')\n",
        "plt.imshow(cv2.cvtColor(upscaled_image, cv2.COLOR_BGR2RGB))\n",
        "plt.axis('off')\n",
        "\n",
        "plt.show()"
      ],
      "metadata": {
        "id": "0R1iPn86zDUD"
      },
      "execution_count": null,
      "outputs": []
    },
    {
      "cell_type": "markdown",
      "source": [
        "**Nearest Neighbors Method**"
      ],
      "metadata": {
        "id": "v7L1DeJgz_dO"
      }
    },
    {
      "cell_type": "code",
      "source": [
        "# Load the input image\n",
        "input_image_path = 'path to your downscaled image'\n",
        "image = cv2.imread(input_image_path)\n",
        "\n",
        "# Check if the image was loaded successfully\n",
        "if image is None:\n",
        "    raise ValueError(\"Image not found or unable to load image.\")\n",
        "\n",
        "# Define the scale factor for upscaling\n",
        "scale_factor = 2.0\n",
        "\n",
        "# Get the dimensions of the input image\n",
        "height, width = image.shape[:2]\n",
        "\n",
        "# Calculate the dimensions of the output image\n",
        "new_width = int(width * scale_factor)\n",
        "new_height = int(height * scale_factor)\n",
        "\n",
        "# Start timing the upscaling process\n",
        "start_time = time.time()\n",
        "\n",
        "# Perform the upscaling using nearest neighbors interpolation\n",
        "upscaled_image = cv2.resize(image, (new_width, new_height), interpolation=cv2.INTER_NEAREST)\n",
        "\n",
        "# End timing the upscaling process\n",
        "end_time = time.time()\n",
        "\n",
        "# Calculate the elapsed time\n",
        "elapsed_time = end_time - start_time\n",
        "print(f\"Time taken to run the model: {elapsed_time:.2f} seconds\")\n",
        "\n",
        "# Convert images to grayscale for MSE and SSIM calculation\n",
        "input_image_gray = cv2.cvtColor(image, cv2.COLOR_BGR2GRAY)\n",
        "upscaled_image_gray = cv2.cvtColor(upscaled_image, cv2.COLOR_BGR2GRAY)\n",
        "\n",
        "# Resize the upscaled image to match the input image dimensions for MSE and SSIM calculation\n",
        "upscaled_image_resized = cv2.resize(upscaled_image_gray, (width, height), interpolation=cv2.INTER_NEAREST)\n",
        "\n",
        "# Calculate MSE\n",
        "mse_score = mean_squared_error(input_image_gray, upscaled_image_resized)\n",
        "print(f\"MSE score: {mse_score}\")\n",
        "\n",
        "# Calculate SSIM\n",
        "ssim_score = structural_similarity(input_image_gray, upscaled_image_resized)\n",
        "print(f\"SSIM score: {ssim_score}\")\n",
        "\n",
        "# Save the output image\n",
        "output_image_path = 'path to your output image'\n",
        "cv2.imwrite(output_image_path, upscaled_image)\n",
        "\n",
        "# Display the input and upscaled images\n",
        "plt.figure(figsize=(10, 5))\n",
        "\n",
        "plt.subplot(1, 2, 1)\n",
        "plt.title('Original Image')\n",
        "plt.imshow(cv2.cvtColor(image, cv2.COLOR_BGR2RGB))\n",
        "plt.axis('off')\n",
        "\n",
        "plt.subplot(1, 2, 2)\n",
        "plt.title('Upscaled Image')\n",
        "plt.imshow(cv2.cvtColor(upscaled_image, cv2.COLOR_BGR2RGB))\n",
        "plt.axis('off')\n",
        "\n",
        "plt.show()"
      ],
      "metadata": {
        "id": "u1vqArTPzFmr"
      },
      "execution_count": null,
      "outputs": []
    }
  ]
}