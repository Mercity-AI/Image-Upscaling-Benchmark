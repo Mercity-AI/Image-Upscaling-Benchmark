{
  "nbformat": 4,
  "nbformat_minor": 0,
  "metadata": {
    "colab": {
      "provenance": []
    },
    "kernelspec": {
      "name": "python3",
      "display_name": "Python 3"
    },
    "language_info": {
      "name": "python"
    }
  },
  "cells": [
    {
      "cell_type": "code",
      "execution_count": null,
      "metadata": {
        "id": "NNJaTrH0BOTW"
      },
      "outputs": [],
      "source": [
        "!pip install diffusers transformers accelerate scipy safetensors"
      ]
    },
    {
      "cell_type": "code",
      "source": [
        "import requests\n",
        "from PIL import Image\n",
        "from io import BytesIO\n",
        "from diffusers import StableDiffusionUpscalePipeline\n",
        "import torch\n",
        "\n",
        "# load model and scheduler\n",
        "model_id = \"stabilityai/stable-diffusion-x4-upscaler\"\n",
        "pipeline = StableDiffusionUpscalePipeline.from_pretrained(model_id, torch_dtype=torch.float16)\n",
        "pipeline = pipeline.to(\"cuda\")\n",
        "\n",
        "# let's download an  image\n",
        "url = \"https://huggingface.co/datasets/hf-internal-testing/diffusers-images/resolve/main/sd2-upscale/low_res_cat.png\"\n",
        "response = requests.get(url)\n",
        "low_res_img = Image.open(BytesIO(response.content)).convert(\"RGB\")\n",
        "low_res_img = low_res_img.resize((128, 128))\n",
        "\n",
        "prompt = \"a white cat\"\n",
        "\n",
        "upscaled_image = pipeline(prompt=prompt, image=low_res_img).images[0]\n",
        "upscaled_image.save(\"upsampled_cat.png\")"
      ],
      "metadata": {
        "id": "EL-2MT3wCMEA"
      },
      "execution_count": null,
      "outputs": []
    }
  ]
}