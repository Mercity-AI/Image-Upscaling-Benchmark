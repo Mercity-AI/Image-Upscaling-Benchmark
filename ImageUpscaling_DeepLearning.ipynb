{
  "nbformat": 4,
  "nbformat_minor": 0,
  "metadata": {
    "colab": {
      "provenance": []
    },
    "kernelspec": {
      "name": "python3",
      "display_name": "Python 3"
    },
    "language_info": {
      "name": "python"
    }
  },
  "cells": [
    {
      "cell_type": "markdown",
      "source": [
        "Importing the necessary libraries"
      ],
      "metadata": {
        "id": "CaKT2dXdDrVF"
      }
    },
    {
      "cell_type": "code",
      "source": [
        "import time\n",
        "import cv2\n",
        "from cv2  import dnn_superres\n",
        "import os\n",
        "import numpy as np\n",
        "import matplotlib.pyplot as plt\n",
        "from skimage.metrics import structural_similarity as ssim"
      ],
      "metadata": {
        "id": "r1ugwu_UCvUM"
      },
      "execution_count": null,
      "outputs": []
    },
    {
      "cell_type": "markdown",
      "source": [
        "Defined the input and output images directory path"
      ],
      "metadata": {
        "id": "ms1Oy4WKDwXV"
      }
    },
    {
      "cell_type": "code",
      "source": [
        "image_path='/content/images'\n",
        "output_path='/content/outputs'"
      ],
      "metadata": {
        "id": "ZFhCHE3tCwAc"
      },
      "execution_count": null,
      "outputs": []
    },
    {
      "cell_type": "markdown",
      "source": [
        "Intialized all the Image upscaling models for different scaling factors"
      ],
      "metadata": {
        "id": "-n1qOUJTD5ss"
      }
    },
    {
      "cell_type": "code",
      "source": [
        "MODEL_LIST = [\n",
        "    {\"name\": \"EDSR\", \"path\":\"/content/drive/MyDrive/Image_Upscaling/EDSR_x2.pb\", \"scale\":2},\n",
        "    {\"name\": \"ESPCN\", \"path\":\"/content/drive/MyDrive/Image_Upscaling/ESPCN_x2.pb\", \"scale\":2},\n",
        "    {\"name\": \"FSRCNN\", \"path\":\"/content/drive/MyDrive/Image_Upscaling/FSRCNN_x2.pb\", \"scale\":2},\n",
        "    {\"name\": \"LAPSRN\", \"path\":\"/content/drive/MyDrive/Image_Upscaling/LapSRN_x2.pb\", \"scale\":2},\n",
        "\n",
        "    {\"name\": \"EDSR\", \"path\":\"/content/drive/MyDrive/Image_Upscaling/EDSR_x3.pb\", \"scale\":3},\n",
        "    {\"name\": \"ESPCN\", \"path\":\"/content/drive/MyDrive/Image_Upscaling/ESPCN_x3.pb\", \"scale\":3},\n",
        "    {\"name\": \"FSRCNN\", \"path\":\"/content/drive/MyDrive/Image_Upscaling/FSRCNN_x3.pb\", \"scale\":3},\n",
        "\n",
        "    {\"name\": \"EDSR\", \"path\":\"/content/drive/MyDrive/Image_Upscaling/EDSR_x4.pb\", \"scale\":4},\n",
        "    {\"name\": \"ESPCN\", \"path\":\"/content/drive/MyDrive/Image_Upscaling/ESPCN_x4.pb\", \"scale\":4},\n",
        "    {\"name\": \"FSRCNN\", \"path\":\"/content/drive/MyDrive/Image_Upscaling/FSRCNN_x4.pb\", \"scale\":4},\n",
        "    {\"name\": \"LAPSRN\", \"path\":\"/content/drive/MyDrive/Image_Upscaling/LapSRN_x4.pb\", \"scale\":4},\n",
        "\n",
        "    {\"name\": \"LAPSRN\", \"path\":\"/content/drive/MyDrive/Image_Upscaling/LapSRN_x8.pb\", \"scale\":8},\n",
        "]"
      ],
      "metadata": {
        "id": "Nx5ABZCLCySA"
      },
      "execution_count": null,
      "outputs": []
    },
    {
      "cell_type": "markdown",
      "source": [
        "Functions to Calculate PSNR, MSE, SSIM score, and saving the output image in the above mentioned directory"
      ],
      "metadata": {
        "id": "q_m_g7g_EGUf"
      }
    },
    {
      "cell_type": "code",
      "source": [
        "def calculate_psnr(original,new):\n",
        "    return cv2.PSNR(original,new)\n",
        "\n",
        "def calculate_mse(original,new):\n",
        "    return (np.square(original - new)).mean(axis=None)\n",
        "\n",
        "def calculate_ssim(original,new):\n",
        "    return ssim(original, new, channel_axis=2)\n",
        "\n",
        "def save_image(path, result):\n",
        "    directory = os.path.dirname(path)\n",
        "    if not os.path.exists(directory):\n",
        "        os.makedirs(directory)\n",
        "    cv2.imwrite(path, result)"
      ],
      "metadata": {
        "id": "k6eKNVetC1VG"
      },
      "execution_count": null,
      "outputs": []
    },
    {
      "cell_type": "markdown",
      "source": [
        "This function, first downscale the image and the upscale it using the Models define in Model List"
      ],
      "metadata": {
        "id": "FkN_Wn7zEUDn"
      }
    },
    {
      "cell_type": "code",
      "source": [
        "def model_run(enable_write):\n",
        "    for model in MODEL_LIST:\n",
        "        name = model['name']\n",
        "        path = model['path']\n",
        "        scale = model['scale']\n",
        "\n",
        "        sr=dnn_superres.DnnSuperResImpl_create()\n",
        "        sr.readModel(path)\n",
        "        sr.setModel(name.lower(),scale)\n",
        "\n",
        "        for i in os.listdir(image_path):\n",
        "            input_image=cv2.imread(os.path.join(image_path,i))\n",
        "            input_image = cv2.resize(input_image, (int(input_image.shape[1]/scale),int(input_image.shape[0]/scale)))\n",
        "            processed_image = cv2.resize(input_image, (int(input_image.shape[1]*scale),int(input_image.shape[0]*scale)))\n",
        "\n",
        "            output_dir = os.path.join(output_path, f'x{scale}')\n",
        "            output_file_path = os.path.join(output_dir, f'{name}_x{scale}_{i}')\n",
        "\n",
        "            begin=time.time()\n",
        "            result_image=sr.upsample(input_image)\n",
        "            interval=time.time()-begin\n",
        "            print(scale)\n",
        "            print(name)\n",
        "            print(f'Time is : {interval}')\n",
        "            print(f'PSNR is : {calculate_psnr(processed_image, result_image)}')\n",
        "            print(f'MSE is : {calculate_mse(processed_image, result_image)}')\n",
        "            print(f'SSIM is : {calculate_ssim(processed_image, result_image)}')\n",
        "\n",
        "            print('')\n",
        "            if enable_write==True:\n",
        "                save_image(output_file_path, result_image)\n",
        "\n",
        "model_run(True)"
      ],
      "metadata": {
        "id": "P7yfUJLGC_w1"
      },
      "execution_count": null,
      "outputs": []
    }
  ]
}